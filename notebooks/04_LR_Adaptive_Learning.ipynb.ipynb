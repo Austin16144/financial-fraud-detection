{
 "cells": [
  {
   "cell_type": "code",
   "execution_count": 3,
   "id": "1800648c",
   "metadata": {},
   "outputs": [
    {
     "name": "stdout",
     "output_type": "stream",
     "text": [
      "📉 Baseline Logistic Regression Performance:\n",
      "              precision    recall  f1-score   support\n",
      "\n",
      "           0     0.9990    1.0000    0.9995    157101\n",
      "           1     1.0000    0.1405    0.2464       185\n",
      "\n",
      "    accuracy                         0.9990    157286\n",
      "   macro avg     0.9995    0.5703    0.6230    157286\n",
      "weighted avg     0.9990    0.9990    0.9986    157286\n",
      "\n",
      "ROC AUC: 0.5702702702702702\n",
      "\n",
      "📈 Adapted Logistic Regression Performance:\n",
      "              precision    recall  f1-score   support\n",
      "\n",
      "           0     0.9992    1.0000    0.9996    157101\n",
      "           1     0.9016    0.2973    0.4472       185\n",
      "\n",
      "    accuracy                         0.9991    157286\n",
      "   macro avg     0.9504    0.6486    0.7234    157286\n",
      "weighted avg     0.9991    0.9991    0.9989    157286\n",
      "\n",
      "ROC AUC: 0.648629552653079\n"
     ]
    }
   ],
   "source": [
    "import os\n",
    "os.chdir('c:/Users/austi/Project/Advanced-Financial-Fraud-detection/notebooks')\n",
    "\n",
    "# 📦 Import necessary libraries\n",
    "import pandas as pd\n",
    "from sklearn.model_selection import train_test_split\n",
    "from sklearn.preprocessing import StandardScaler\n",
    "from sklearn.linear_model import LogisticRegression\n",
    "from sklearn.metrics import classification_report, roc_auc_score\n",
    "\n",
    "# 🧾 1. Load cleaned dataset\n",
    "df = pd.read_csv(\"../data/paysim_cleaned.csv\")  \n",
    "\n",
    "# 🎯 2. Encode and drop non-numeric columns\n",
    "df['type'] = df['type'].astype('category').cat.codes\n",
    "X = df.drop(['isFraud', 'nameOrig', 'nameDest'], axis=1)\n",
    "y = df['isFraud']\n",
    "\n",
    "# 📊 3. Scale features\n",
    "scaler = StandardScaler()\n",
    "X_scaled = scaler.fit_transform(X)\n",
    "\n",
    "# 🧪 4. Train/test split\n",
    "X_train, X_test, y_train, y_test = train_test_split(X_scaled, y, test_size=0.3, random_state=42, stratify=y)\n",
    "\n",
    "# 🔁 5. Simulate new incoming data from test set\n",
    "X_test_part1, X_test_new, y_test_part1, y_test_new = train_test_split(X_test, y_test, test_size=0.5, random_state=42)\n",
    "\n",
    "# 🧠 6. Train initial logistic regression model\n",
    "log_reg_base = LogisticRegression(max_iter=1000, random_state=42)\n",
    "log_reg_base.fit(X_train, y_train)\n",
    "y_pred_base = log_reg_base.predict(X_test_part1)\n",
    "\n",
    "print(\"📉 Baseline Logistic Regression Performance:\")\n",
    "print(classification_report(y_test_part1, y_pred_base, digits=4))\n",
    "print(\"ROC AUC:\", roc_auc_score(y_test_part1, y_pred_base))\n",
    "\n",
    "# 🔄 7. Adaptive learning - retrain with new data\n",
    "X_adapted = pd.concat([pd.DataFrame(X_train), pd.DataFrame(X_test_new)], axis=0)\n",
    "y_adapted = pd.concat([y_train, y_test_new], axis=0)\n",
    "\n",
    "log_reg_adapted = LogisticRegression(max_iter=1000, random_state=42)\n",
    "log_reg_adapted.fit(X_adapted, y_adapted)\n",
    "y_pred_adapted = log_reg_adapted.predict(X_test_part1)\n",
    "\n",
    "print(\"\\n📈 Adapted Logistic Regression Performance:\")\n",
    "print(classification_report(y_test_part1, y_pred_adapted, digits=4))\n",
    "print(\"ROC AUC:\", roc_auc_score(y_test_part1, y_pred_adapted))\n"
   ]
  }
 ],
 "metadata": {
  "kernelspec": {
   "display_name": "Python 3",
   "language": "python",
   "name": "python3"
  },
  "language_info": {
   "codemirror_mode": {
    "name": "ipython",
    "version": 3
   },
   "file_extension": ".py",
   "mimetype": "text/x-python",
   "name": "python",
   "nbconvert_exporter": "python",
   "pygments_lexer": "ipython3",
   "version": "3.11.9"
  }
 },
 "nbformat": 4,
 "nbformat_minor": 5
}
