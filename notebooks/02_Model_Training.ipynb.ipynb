{
 "cells": [
  {
   "cell_type": "markdown",
   "id": "a8682546",
   "metadata": {},
   "source": [
    "# TASK 2: Modelling\n",
    "\n",
    "**Project:** Advanced Financial Fraud Detection\n",
    "\n",
    "**Goal:** Understand the credit card dataset and find patterns useful for fraud detection modeling."
   ]
  },
  {
   "cell_type": "code",
   "execution_count": 1,
   "id": "04c4a5a2",
   "metadata": {},
   "outputs": [],
   "source": [
    "# 📦 Imports\n",
    "import pandas as pd\n",
    "import numpy as np\n",
    "from sklearn.model_selection import train_test_split\n",
    "from sklearn.preprocessing import StandardScaler\n",
    "from sklearn.linear_model import LogisticRegression\n",
    "from sklearn.ensemble import RandomForestClassifier, IsolationForest\n",
    "from xgboost import XGBClassifier\n",
    "from sklearn.metrics import classification_report, confusion_matrix, roc_auc_score, roc_curve\n",
    "import matplotlib.pyplot as plt\n",
    "import seaborn as sns\n",
    "\n",
    "# ✅ Load Cleaned Dataset\n",
    "df = pd.read_csv('../data/paysim_cleaned.csv')\n"
   ]
  },
  {
   "cell_type": "code",
   "execution_count": 26,
   "id": "750015e6",
   "metadata": {},
   "outputs": [],
   "source": [
    "# Prepare Features\n",
    "X = df.drop(['isFraud', 'nameOrig', 'nameDest', 'step'], axis=1)\n",
    "y = df['isFraud']"
   ]
  },
  {
   "cell_type": "code",
   "execution_count": 27,
   "id": "1611798d-26b8-403b-8a86-597e9f30fddc",
   "metadata": {},
   "outputs": [],
   "source": [
    "# Split & Scale\n",
    "X_train, X_test, y_train, y_test = train_test_split(X, y, stratify=y, test_size=0.3, random_state=42)\n",
    "scaler = StandardScaler()\n",
    "X_train_scaled = scaler.fit_transform(X_train)\n",
    "X_test_scaled = scaler.transform(X_test)\n"
   ]
  },
  {
   "cell_type": "code",
   "execution_count": 28,
   "id": "87b8b85d",
   "metadata": {},
   "outputs": [],
   "source": [
    "# Store predictions\n",
    "results_df = X_test.copy()\n",
    "results_df['Actual'] = y_test.values"
   ]
  },
  {
   "cell_type": "markdown",
   "id": "0fb15095",
   "metadata": {},
   "source": [
    "# Logistic Regression -Supervised\n",
    "\n"
   ]
  },
  {
   "cell_type": "code",
   "execution_count": 29,
   "id": "03b93e88",
   "metadata": {},
   "outputs": [],
   "source": [
    "lr = LogisticRegression(max_iter=1000)\n",
    "lr.fit(X_train_scaled, y_train)\n",
    "pred_lr = lr.predict(X_test_scaled)\n",
    "results_df['Pred_LR'] = pred_lr\n",
    "\n"
   ]
  },
  {
   "cell_type": "markdown",
   "id": "490aa434",
   "metadata": {},
   "source": [
    "# Random Forest Classifier -Supervised\n"
   ]
  },
  {
   "cell_type": "code",
   "execution_count": 17,
   "id": "4c0d1ef2",
   "metadata": {},
   "outputs": [],
   "source": [
    "rf = RandomForestClassifier(n_estimators=100, random_state=42)\n",
    "rf.fit(X_train, y_train)\n",
    "pred_rf = rf.predict(X_test)\n",
    "results_df['Pred_RF'] = pred_rf\n"
   ]
  },
  {
   "cell_type": "code",
   "execution_count": null,
   "id": "1e42d53f",
   "metadata": {},
   "outputs": [],
   "source": [
    "# ✅ Evaluation Function\n",
    "def evaluate_model(name, y_true, y_pred):\n",
    "    print(f\"\\n📊 {name} Evaluation:\")\n",
    "    print(confusion_matrix(y_true, y_pred))\n",
    "    print(classification_report(y_true, y_pred, digits=4))\n",
    "    print(\"ROC AUC:\", roc_auc_score(y_true, y_pred))\n"
   ]
  },
  {
   "cell_type": "markdown",
   "id": "af1fd6e9",
   "metadata": {},
   "source": [
    "# Decision tree- Supervised"
   ]
  },
  {
   "cell_type": "code",
   "execution_count": 22,
   "id": "dd664232",
   "metadata": {},
   "outputs": [
    {
     "name": "stdout",
     "output_type": "stream",
     "text": [
      "\n",
      "📊 Decision Tree Evaluation:\n",
      "[[209484      7]\n",
      " [   176     48]]\n",
      "              precision    recall  f1-score   support\n",
      "\n",
      "           0     0.9992    1.0000    0.9996    209491\n",
      "           1     0.8727    0.2143    0.3441       224\n",
      "\n",
      "    accuracy                         0.9991    209715\n",
      "   macro avg     0.9359    0.6071    0.6718    209715\n",
      "weighted avg     0.9990    0.9991    0.9989    209715\n",
      "\n",
      "ROC AUC: 0.6071261499812128\n"
     ]
    }
   ],
   "source": [
    "\n",
    "from sklearn.tree import DecisionTreeClassifier\n",
    "X_train, X_test, y_train, y_test = train_test_split(X, y, test_size=0.2, random_state=42)\n",
    "\n",
    "# Initialize results_df\n",
    "results_df = pd.DataFrame()\n",
    "results_df['Actual'] = y_test.values\n",
    "\n",
    "# Decision Tree\n",
    "dt = DecisionTreeClassifier(random_state=42, max_depth=5)  # max_depth to prevent overfitting\n",
    "dt.fit(X_train, y_train)\n",
    "pred_dt = dt.predict(X_test)\n",
    "results_df['Pred_DT'] = pred_dt\n",
    "\n",
    "# 📊 Evaluate\n",
    "evaluate_model(\"Decision Tree\", y_test, pred_dt)\n"
   ]
  },
  {
   "cell_type": "markdown",
   "id": "ed233999",
   "metadata": {},
   "source": [
    "# XGBoost- Supervised\n"
   ]
  },
  {
   "cell_type": "code",
   "execution_count": 20,
   "id": "060dc78a",
   "metadata": {},
   "outputs": [
    {
     "name": "stderr",
     "output_type": "stream",
     "text": [
      "C:\\Users\\austi\\AppData\\Local\\Packages\\PythonSoftwareFoundation.Python.3.11_qbz5n2kfra8p0\\LocalCache\\local-packages\\Python311\\site-packages\\xgboost\\training.py:183: UserWarning: [11:40:12] WARNING: C:\\actions-runner\\_work\\xgboost\\xgboost\\src\\learner.cc:738: \n",
      "Parameters: { \"use_label_encoder\" } are not used.\n",
      "\n",
      "  bst.update(dtrain, iteration=i, fobj=obj)\n"
     ]
    }
   ],
   "source": [
    "xgb = XGBClassifier(use_label_encoder=False, eval_metric='logloss')\n",
    "xgb.fit(X_train, y_train)\n",
    "pred_xgb = xgb.predict(X_test)\n",
    "results_df['Pred_XGB'] = pred_xgb\n",
    "\n"
   ]
  },
  {
   "cell_type": "markdown",
   "id": "f929e72f",
   "metadata": {},
   "source": [
    "# Isolation Forest-Unsupervised\n"
   ]
  },
  {
   "cell_type": "code",
   "execution_count": 18,
   "id": "841ba0bb",
   "metadata": {},
   "outputs": [],
   "source": [
    "iso = IsolationForest(contamination=0.001, random_state=42)\n",
    "iso.fit(X_train)\n",
    "anom_scores = iso.decision_function(X_test)\n",
    "pred_iso = iso.predict(X_test)\n",
    "# Convert to 0 (normal) / 1 (anomaly)\n",
    "results_df['Pred_IForest'] = np.where(pred_iso == -1, 1, 0)\n"
   ]
  },
  {
   "cell_type": "markdown",
   "id": "ca1a36d1",
   "metadata": {},
   "source": [
    "# Autoencoder- Unsupervised"
   ]
  },
  {
   "cell_type": "code",
   "execution_count": null,
   "id": "3ca8b87e",
   "metadata": {},
   "outputs": [
    {
     "name": "stdout",
     "output_type": "stream",
     "text": [
      "\u001b[1m9831/9831\u001b[0m \u001b[32m━━━━━━━━━━━━━━━━━━━━\u001b[0m\u001b[37m\u001b[0m \u001b[1m9s\u001b[0m 909us/step\n",
      "\n",
      "📊 Autoencoder Evaluation:\n",
      "[[298719  15511]\n",
      " [   125    218]]\n",
      "              precision    recall  f1-score   support\n",
      "\n",
      "           0     0.9996    0.9506    0.9745    314230\n",
      "           1     0.0139    0.6356    0.0271       343\n",
      "\n",
      "    accuracy                         0.9503    314573\n",
      "   macro avg     0.5067    0.7931    0.5008    314573\n",
      "weighted avg     0.9985    0.9503    0.9735    314573\n",
      "\n",
      "ROC AUC: 0.793103290388491\n"
     ]
    }
   ],
   "source": [
    "from tensorflow.keras.models import Model\n",
    "from tensorflow.keras.layers import Input, Dense\n",
    "from tensorflow.keras import regularizers\n",
    "from sklearn.metrics import mean_squared_error\n",
    "\n",
    "# Input shape\n",
    "input_dim = X_train_scaled.shape[1]\n",
    "\n",
    "# Autoencoder Model\n",
    "input_layer = Input(shape=(input_dim,))\n",
    "encoded = Dense(8, activation=\"relu\", activity_regularizer=regularizers.l1(1e-5))(input_layer)\n",
    "decoded = Dense(input_dim, activation='linear')(encoded)\n",
    "autoencoder = Model(inputs=input_layer, outputs=decoded)\n",
    "\n",
    "# Compile and Train\n",
    "autoencoder.compile(optimizer='adam', loss='mse')\n",
    "autoencoder.fit(X_train_scaled, X_train_scaled, epochs=5, batch_size=256, shuffle=True, validation_split=0.2, verbose=0)\n",
    "\n",
    "# Predict and Calculate Errors\n",
    "reconstructions = autoencoder.predict(X_test_scaled)\n",
    "mse = np.mean(np.power(X_test_scaled - reconstructions, 2), axis=1)\n",
    "\n",
    "# Set Threshold for Fraud (e.g., 95th percentile)\n",
    "threshold = np.percentile(mse, 95)\n",
    "results_df['Pred_AE'] = (mse > threshold).astype(int)\n",
    "\n",
    "# Evaluate\n",
    "evaluate_model(\"Autoencoder\", y_test, results_df['Pred_AE'])\n"
   ]
  },
  {
   "cell_type": "markdown",
   "id": "4560834e",
   "metadata": {},
   "source": [
    "# One Class-SVM"
   ]
  },
  {
   "cell_type": "code",
   "execution_count": 13,
   "id": "2257e4fc",
   "metadata": {},
   "outputs": [
    {
     "name": "stdout",
     "output_type": "stream",
     "text": [
      "\n",
      "📊 One-Class SVM Evaluation:\n",
      "[[  5985 308245]\n",
      " [     0    343]]\n",
      "              precision    recall  f1-score   support\n",
      "\n",
      "           0     1.0000    0.0190    0.0374    314230\n",
      "           1     0.0011    1.0000    0.0022       343\n",
      "\n",
      "    accuracy                         0.0201    314573\n",
      "   macro avg     0.5006    0.5095    0.0198    314573\n",
      "weighted avg     0.9989    0.0201    0.0373    314573\n",
      "\n",
      "ROC AUC: 0.5095232791267543\n"
     ]
    }
   ],
   "source": [
    "from sklearn.svm import OneClassSVM\n",
    "\n",
    "# 🔻 Sample a subset (only normal cases) for training\n",
    "normal_data = X_train[y_train == 0].sample(100000, random_state=42)\n",
    "\n",
    "# 🧠 Train One-Class SVM\n",
    "ocsvm = OneClassSVM(kernel='rbf', gamma='auto', nu=0.001)\n",
    "ocsvm.fit(normal_data)\n",
    "\n",
    "# 🔍 Predict on full test set\n",
    "svm_pred = ocsvm.predict(X_test)\n",
    "results_df['Pred_OCSVM'] = np.where(svm_pred == -1, 1, 0)\n",
    "\n",
    "# 📊 Evaluate\n",
    "evaluate_model(\"One-Class SVM\", y_test, results_df['Pred_OCSVM'])\n"
   ]
  },
  {
   "cell_type": "markdown",
   "id": "72414cd0",
   "metadata": {},
   "source": [
    "# EVALUATION"
   ]
  },
  {
   "cell_type": "code",
   "execution_count": null,
   "id": "72488c0b",
   "metadata": {},
   "outputs": [
    {
     "name": "stdout",
     "output_type": "stream",
     "text": [
      "\n",
      "📊 Logistic Regression Evaluation:\n",
      "[[314217     13]\n",
      " [   257     86]]\n",
      "              precision    recall  f1-score   support\n",
      "\n",
      "           0     0.9992    1.0000    0.9996    314230\n",
      "           1     0.8687    0.2507    0.3891       343\n",
      "\n",
      "    accuracy                         0.9991    314573\n",
      "   macro avg     0.9339    0.6253    0.6944    314573\n",
      "weighted avg     0.9990    0.9991    0.9989    314573\n",
      "\n",
      "ROC AUC: 0.6253437460017264\n",
      "\n",
      "📊 Random Forest Evaluation:\n",
      "[[314224      6]\n",
      " [   107    236]]\n",
      "              precision    recall  f1-score   support\n",
      "\n",
      "           0     0.9997    1.0000    0.9998    314230\n",
      "           1     0.9752    0.6880    0.8068       343\n",
      "\n",
      "    accuracy                         0.9996    314573\n",
      "   macro avg     0.9874    0.8440    0.9033    314573\n",
      "weighted avg     0.9996    0.9996    0.9996    314573\n",
      "\n",
      "ROC AUC: 0.8440137764681661\n",
      "\n",
      "📊 XGBoost Evaluation:\n",
      "[[314043    187]\n",
      " [   263     80]]\n",
      "              precision    recall  f1-score   support\n",
      "\n",
      "           0     0.9992    0.9994    0.9993    314230\n",
      "           1     0.2996    0.2332    0.2623       343\n",
      "\n",
      "    accuracy                         0.9986    314573\n",
      "   macro avg     0.6494    0.6163    0.6308    314573\n",
      "weighted avg     0.9984    0.9986    0.9985    314573\n",
      "\n",
      "ROC AUC: 0.6163205230537621\n",
      "\n",
      "📊 Decision Tree Evaluation:\n",
      "[[314206     24]\n",
      " [   256     87]]\n",
      "              precision    recall  f1-score   support\n",
      "\n",
      "           0     0.9992    0.9999    0.9996    314230\n",
      "           1     0.7838    0.2536    0.3833       343\n",
      "\n",
      "    accuracy                         0.9991    314573\n",
      "   macro avg     0.8915    0.6268    0.6914    314573\n",
      "weighted avg     0.9990    0.9991    0.9989    314573\n",
      "\n",
      "ROC AUC: 0.6267839688464254\n",
      "\n",
      "📊 Isolation Forest Evaluation:\n",
      "[[313901    329]\n",
      " [   342      1]]\n",
      "              precision    recall  f1-score   support\n",
      "\n",
      "           0     0.9989    0.9990    0.9989    314230\n",
      "           1     0.0030    0.0029    0.0030       343\n",
      "\n",
      "    accuracy                         0.9979    314573\n",
      "   macro avg     0.5010    0.5009    0.5010    314573\n",
      "weighted avg     0.9978    0.9979    0.9978    314573\n",
      "\n",
      "ROC AUC: 0.5009342240540045\n",
      "\n",
      "📊 Autoencoder Evaluation:\n",
      "[[298719  15511]\n",
      " [   125    218]]\n",
      "              precision    recall  f1-score   support\n",
      "\n",
      "           0     0.9996    0.9506    0.9745    314230\n",
      "           1     0.0139    0.6356    0.0271       343\n",
      "\n",
      "    accuracy                         0.9503    314573\n",
      "   macro avg     0.5067    0.7931    0.5008    314573\n",
      "weighted avg     0.9985    0.9503    0.9735    314573\n",
      "\n",
      "ROC AUC: 0.793103290388491\n",
      "\n",
      "📊 One-Class SVM Evaluation:\n",
      "[[  5985 308245]\n",
      " [     0    343]]\n",
      "              precision    recall  f1-score   support\n",
      "\n",
      "           0     1.0000    0.0190    0.0374    314230\n",
      "           1     0.0011    1.0000    0.0022       343\n",
      "\n",
      "    accuracy                         0.0201    314573\n",
      "   macro avg     0.5006    0.5095    0.0198    314573\n",
      "weighted avg     0.9989    0.0201    0.0373    314573\n",
      "\n",
      "ROC AUC: 0.5095232791267543\n"
     ]
    }
   ],
   "source": [
    "\n",
    "# 🔍 Evaluate All Models\n",
    "evaluate_model(\"Logistic Regression\", y_test, results_df['Pred_LR'])\n",
    "evaluate_model(\"Random Forest\", y_test, results_df['Pred_RF'])\n",
    "evaluate_model(\"XGBoost\", y_test, results_df['Pred_XGB'])\n",
    "evaluate_model(\"Decision Tree\", y_test, results_df['Pred_DT'])\n",
    "evaluate_model(\"Isolation Forest\", y_test, results_df['Pred_IForest'])\n",
    "evaluate_model(\"Autoencoder\", y_test, results_df['Pred_AE'])\n",
    "evaluate_model(\"One-Class SVM\", y_test, results_df['Pred_OCSVM'])"
   ]
  },
  {
   "cell_type": "markdown",
   "id": "016a601a",
   "metadata": {},
   "source": [
    "#  ROC Curve (only for supervised models with probabilities)"
   ]
  },
  {
   "cell_type": "code",
   "execution_count": null,
   "id": "30152b73",
   "metadata": {},
   "outputs": [],
   "source": [
    "\n",
    "lr_probs = lr.predict_proba(X_test_scaled)[:, 1]\n",
    "rf_probs = rf.predict_proba(X_test)[:, 1]\n",
    "xgb_probs = xgb.predict_proba(X_test)[:, 1]\n",
    "\n",
    "fpr_lr, tpr_lr, _ = roc_curve(y_test, lr_probs)\n",
    "fpr_rf, tpr_rf, _ = roc_curve(y_test, rf_probs)\n",
    "fpr_xgb, tpr_xgb, _ = roc_curve(y_test, xgb_probs)\n"
   ]
  },
  {
   "cell_type": "code",
   "execution_count": 16,
   "id": "3e4aac84",
   "metadata": {},
   "outputs": [
    {
     "data": {
      "image/png": "[encoded data removed]",
      "text/plain": [
       "<Figure size 800x600 with 1 Axes>"
      ]
     },
     "metadata": {},
     "output_type": "display_data"
    },
    {
     "name": "stdout",
     "output_type": "stream",
     "text": [
      "✅ Saved predictions to: df_with_predictions.csv\n"
     ]
    }
   ],
   "source": [
    "plt.figure(figsize=(8, 6))\n",
    "plt.plot(fpr_lr, tpr_lr, label='Logistic Regression')\n",
    "plt.plot(fpr_rf, tpr_rf, label='Random Forest')\n",
    "plt.plot(fpr_xgb, tpr_xgb, label='XGBoost')\n",
    "plt.plot([0, 1], [0, 1], linestyle='--', color='gray')\n",
    "plt.title('ROC Curve - Supervised Models')\n",
    "plt.xlabel('False Positive Rate')\n",
    "plt.ylabel('True Positive Rate')\n",
    "plt.legend()\n",
    "plt.grid(True)\n",
    "plt.show()\n",
    "\n",
    "# 💾 Save predictions \n",
    "results_df.to_csv('../data/df_with_predictions.csv', index=False)\n",
    "print(\"✅ Saved predictions to: df_with_predictions.csv\")\n"
   ]
  },
  {
   "cell_type": "markdown",
   "id": "13e8152f",
   "metadata": {},
   "source": [
    "## 📌 Summary\n",
    "\n",
    "- Logistic Regression and Random Forest models trained.\n",
    "- Random Forest typically shows better recall and precision on fraud cases.\n",
    "- Predictions saved in `df_with_predictions.csv` for Power BI use in Week 3.\n",
    "\n"
   ]
  }
 ],
 "metadata": {
  "kernelspec": {
   "display_name": "Python 3",
   "language": "python",
   "name": "python3"
  },
  "language_info": {
   "codemirror_mode": {
    "name": "ipython",
    "version": 3
   },
   "file_extension": ".py",
   "mimetype": "text/x-python",
   "name": "python",
   "nbconvert_exporter": "python",
   "pygments_lexer": "ipython3",
   "version": "3.11.9"
  }
 },
 "nbformat": 4,
 "nbformat_minor": 5
}
