{
 "cells": [
  {
   "cell_type": "code",
   "execution_count": 9,
   "id": "368462e4",
   "metadata": {},
   "outputs": [
    {
     "name": "stdout",
     "output_type": "stream",
     "text": [
      "📉 Baseline Performance (before adaptation):\n",
      "              precision    recall  f1-score   support\n",
      "\n",
      "           0     0.9998    1.0000    0.9999    157101\n",
      "           1     0.9868    0.8054    0.8869       185\n",
      "\n",
      "    accuracy                         0.9998    157286\n",
      "   macro avg     0.9933    0.9027    0.9434    157286\n",
      "weighted avg     0.9998    0.9998    0.9997    157286\n",
      "\n",
      "ROC AUC: 0.9026963373708462\n",
      "\n",
      "📈 Adapted Model Performance (after learning from new data):\n",
      "              precision    recall  f1-score   support\n",
      "\n",
      "           0     0.9998    1.0000    0.9999    157101\n",
      "           1     0.9868    0.8108    0.8902       185\n",
      "\n",
      "    accuracy                         0.9998    157286\n",
      "   macro avg     0.9933    0.9054    0.9450    157286\n",
      "weighted avg     0.9998    0.9998    0.9998    157286\n",
      "\n",
      "ROC AUC: 0.9053990400735489\n"
     ]
    }
   ],
   "source": [
    "import os\n",
    "os.chdir('c:/Users/austi/Project/Advanced-Financial-Fraud-detection/notebooks')\n",
    "\n",
    "# 📦 Import libraries\n",
    "import pandas as pd\n",
    "from sklearn.model_selection import train_test_split\n",
    "from sklearn.preprocessing import StandardScaler\n",
    "from sklearn.ensemble import RandomForestClassifier\n",
    "from sklearn.metrics import classification_report, roc_auc_score\n",
    "\n",
    "# 🧾 1. Load cleaned dataset\n",
    "df = pd.read_csv('../data/paysim_cleaned.csv')  \n",
    "\n",
    "# 🎯 2. Encode categorical & drop non-numeric columns\n",
    "df['type'] = df['type'].astype('category').cat.codes  # encode 'type' if needed\n",
    "X = df.drop(['isFraud', 'nameOrig', 'nameDest'], axis=1)  # drop string/ID cols\n",
    "y = df['isFraud']\n",
    "\n",
    "\n",
    "# 📊 3. Scale features\n",
    "scaler = StandardScaler()\n",
    "X_scaled = pd.DataFrame(scaler.fit_transform(X), columns=X.columns)\n",
    "\n",
    "# 🧪 4. Split into train/test\n",
    "X_train, X_test, y_train, y_test = train_test_split(X_scaled, y, test_size=0.3, random_state=42, stratify=y)\n",
    "\n",
    "# 🔄 5. Simulate \"new\" data arrival from test set\n",
    "X_test_part1, X_test_new, y_test_part1, y_test_new = train_test_split(X_test, y_test, test_size=0.5, random_state=42)\n",
    "\n",
    "# 🧠 6. Train baseline model\n",
    "baseline_model = RandomForestClassifier(n_estimators=100, random_state=42)\n",
    "baseline_model.fit(X_train, y_train)\n",
    "y_pred_baseline = baseline_model.predict(X_test_part1)\n",
    "\n",
    "print(\"📉 Baseline Performance (before adaptation):\")\n",
    "print(classification_report(y_test_part1, y_pred_baseline, digits=4))\n",
    "print(\"ROC AUC:\", roc_auc_score(y_test_part1, y_pred_baseline))\n",
    "\n",
    "# 🔁 7. Adaptive learning - update model with new data\n",
    "X_adapted = pd.concat([pd.DataFrame(X_train), pd.DataFrame(X_test_new)], axis=0)\n",
    "y_adapted = pd.concat([y_train, y_test_new], axis=0)\n",
    "\n",
    "adapted_model = RandomForestClassifier(n_estimators=100, random_state=42)\n",
    "adapted_model.fit(X_adapted, y_adapted)\n",
    "y_pred_adapted = adapted_model.predict(X_test_part1)\n",
    "\n",
    "print(\"\\n📈 Adapted Model Performance (after learning from new data):\")\n",
    "print(classification_report(y_test_part1, y_pred_adapted, digits=4))\n",
    "print(\"ROC AUC:\", roc_auc_score(y_test_part1, y_pred_adapted))\n"
   ]
  }
 ],
 "metadata": {
  "kernelspec": {
   "display_name": "Python 3",
   "language": "python",
   "name": "python3"
  },
  "language_info": {
   "codemirror_mode": {
    "name": "ipython",
    "version": 3
   },
   "file_extension": ".py",
   "mimetype": "text/x-python",
   "name": "python",
   "nbconvert_exporter": "python",
   "pygments_lexer": "ipython3",
   "version": "3.11.9"
  }
 },
 "nbformat": 4,
 "nbformat_minor": 5
}
