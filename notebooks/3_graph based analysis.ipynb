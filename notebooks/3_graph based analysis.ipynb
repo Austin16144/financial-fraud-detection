{
 "cells": [
  {
   "cell_type": "code",
   "execution_count": 1,
   "id": "df368199",
   "metadata": {},
   "outputs": [
    {
     "name": "stdout",
     "output_type": "stream",
     "text": [
      "🔗 Number of nodes: 2274\n",
      "🔁 Number of fraudulent edges (transactions): 1142\n",
      "\n",
      "🚩 Top suspicious senders:\n",
      "C1305486145: 1 transactions\n",
      "C840083671: 1 transactions\n",
      "C1420196421: 1 transactions\n",
      "C2101527076: 1 transactions\n",
      "C137533655: 1 transactions\n"
     ]
    },
    {
     "data": {
      "image/png": "[encoded data removed]",
      "text/plain": [
       "<Figure size 1000x600 with 1 Axes>"
      ]
     },
     "metadata": {},
     "output_type": "display_data"
    }
   ],
   "source": [
    "import pandas as pd\n",
    "import networkx as nx\n",
    "import matplotlib.pyplot as plt\n",
    "\n",
    "#  Load data (replace with your cleaned path if needed)\n",
    "df = pd.read_csv('C:/Users/austi/Project/Advanced-Financial-Fraud-detection/data/paysim_cleaned.csv')\n",
    "# Filter for fraudulent transactions\n",
    "fraud_df = df[df['isFraud'] == 1]\n",
    "\n",
    "# Create a directed graph\n",
    "G = nx.from_pandas_edgelist(\n",
    "    fraud_df,\n",
    "    source='nameOrig',\n",
    "    target='nameDest',\n",
    "    edge_attr='amount',\n",
    "    create_using=nx.DiGraph()\n",
    ")\n",
    "\n",
    "#  Analyze the graph\n",
    "print(f\"🔗 Number of nodes: {G.number_of_nodes()}\")\n",
    "print(f\"🔁 Number of fraudulent edges (transactions): {G.number_of_edges()}\")\n",
    "\n",
    "#  Find top suspicious nodes (most outgoing fraud transactions)\n",
    "top_senders = sorted(G.out_degree, key=lambda x: x[1], reverse=True)[:5]\n",
    "print(\"\\n🚩 Top suspicious senders:\")\n",
    "for sender, count in top_senders:\n",
    "    print(f\"{sender}: {count} transactions\")\n",
    "\n",
    "# Visualize (optional)\n",
    "plt.figure(figsize=(10, 6))\n",
    "subgraph = G.subgraph([node for node, _ in top_senders] + list(G.successors(top_senders[0][0])))\n",
    "pos = nx.spring_layout(subgraph, k=0.5)\n",
    "nx.draw(subgraph, pos, with_labels=True, node_color='skyblue', edge_color='gray', node_size=700, font_size=8)\n",
    "plt.title(\"⚠️ Suspicious Fraud Network (Top Sender & Neighbors)\")\n",
    "plt.show()\n"
   ]
  },
  {
   "cell_type": "markdown",
   "id": "3a2bf89d",
   "metadata": {},
   "source": [
    "# Email Alert System\n"
   ]
  },
  {
   "cell_type": "code",
   "execution_count": 2,
   "id": "4b18b86b",
   "metadata": {},
   "outputs": [],
   "source": [
    "import smtplib\n",
    "from email.mime.text import MIMEText\n",
    "from email.mime.multipart import MIMEMultipart\n",
    "\n",
    "def send_fraud_alert(transaction):\n",
    "    sender_email = \"cherianaustin16@gmail.com\"\n",
    "    receiver_email = \"austincherian12@gmail.com\"\n",
    "    app_password = \"sord qxez diaf fxcs\"  # App-specific password from Gmail\n",
    "\n",
    "    subject = \"🚨 Fraud Alert: Suspicious Transaction Detected\"\n",
    "    body = f\"\"\"\n",
    "    ⚠️ Suspicious Transaction Alert ⚠️\n",
    "\n",
    "    Transaction Details:\n",
    "    - Transaction ID: {transaction.get('transactionID', 'N/A')}\n",
    "    - Sender: {transaction['nameOrig']}\n",
    "    - Receiver: {transaction['nameDest']}\n",
    "    - Amount: {transaction['amount']}\n",
    "    - Type: {transaction['type']}\n",
    "\n",
    "    This transaction was flagged as potentially fraudulent.\n",
    "    \"\"\"\n",
    "\n",
    "    message = MIMEMultipart()\n",
    "    message[\"From\"] = sender_email\n",
    "    message[\"To\"] = receiver_email\n",
    "    message[\"Subject\"] = subject\n",
    "    message.attach(MIMEText(body, \"plain\"))\n",
    "\n",
    "    try:\n",
    "        server = smtplib.SMTP(\"smtp.gmail.com\", 587)\n",
    "        server.starttls()\n",
    "        server.login(sender_email, app_password)\n",
    "        server.sendmail(sender_email, receiver_email, message.as_string())\n",
    "        server.quit()\n",
    "        print(\"✅ Email alert sent successfully.\")\n",
    "    except Exception as e:\n",
    "        print(\"❌ Failed to send email:\", e)"
   ]
  },
  {
   "cell_type": "code",
   "execution_count": 6,
   "id": "4a68658a",
   "metadata": {},
   "outputs": [
    {
     "name": "stdout",
     "output_type": "stream",
     "text": [
      "Pred_RF\n",
      "0.0    314331\n",
      "1.0       242\n",
      "Name: count, dtype: int64\n"
     ]
    }
   ],
   "source": [
    "#Merge original data + all predictions\n",
    "df_raw = pd.read_csv(\"../data/paysim_cleaned.csv\")\n",
    "df_preds = pd.read_csv(\"../data/df_with_predictions.csv\")\n",
    "\n",
    "df_raw = df_raw.reset_index(drop=True)\n",
    "df_preds = df_preds.reset_index(drop=True)\n",
    "\n",
    "df_combined = pd.concat([df_raw, df_preds], axis=1)\n",
    "\n",
    "print(df_combined['Pred_RF'].value_counts())\n",
    "\n",
    "def trigger_fraud_alerts(df, model_col='Pred_RF', limit=3):\n",
    "    if model_col not in df.columns:\n",
    "        print(f\"❌ Column '{model_col}' not found in DataFrame.\")\n",
    "        return\n",
    "    \n",
    "    fraud_rows = df[df[model_col] == 1].head(limit)\n",
    "    print(f\"🔍 Found {len(fraud_rows)} fraud(s) predicted by {model_col}\")\n",
    "\n",
    "    if fraud_rows.empty:\n",
    "        print(\"✅ No frauds predicted to alert.\")\n",
    "        return\n",
    "\n",
    "    for i, (_, row) in enumerate(fraud_rows.iterrows(), 1):\n",
    "        print(f\"📤 Sending alert #{i} for sender: {row.get('nameOrig', 'N/A')} | Amount: {row.get('amount', 0)}\")\n",
    "        send_fraud_alert(row)\n",
    "\n",
    "    print(\"✅ All alerts sent.\")"
   ]
  },
  {
   "cell_type": "code",
   "execution_count": 8,
   "id": "6f45864f",
   "metadata": {},
   "outputs": [
    {
     "name": "stdout",
     "output_type": "stream",
     "text": [
      "🔍 Found 3 fraud(s) predicted by Pred_XGB\n",
      "📤 Sending alert #1 for sender: C8197402 | Amount: amount     58516.68\n",
      "amount    328115.31\n",
      "Name: 1878, dtype: object\n",
      "✅ Email alert sent successfully.\n",
      "📤 Sending alert #2 for sender: C486662053 | Amount: amount      7020.05\n",
      "amount    103021.64\n",
      "Name: 1938, dtype: object\n",
      "✅ Email alert sent successfully.\n",
      "📤 Sending alert #3 for sender: C1877240674 | Amount: amount      6683.73\n",
      "amount    425885.96\n",
      "Name: 1975, dtype: object\n",
      "✅ Email alert sent successfully.\n",
      "✅ All alerts sent.\n"
     ]
    }
   ],
   "source": [
    "trigger_fraud_alerts(df_combined, model_col='Pred_XGB', limit=3)\n"
   ]
  },
  {
   "cell_type": "markdown",
   "id": "e0320c4f",
   "metadata": {},
   "source": []
  }
 ],
 "metadata": {
  "kernelspec": {
   "display_name": "Python 3",
   "language": "python",
   "name": "python3"
  },
  "language_info": {
   "codemirror_mode": {
    "name": "ipython",
    "version": 3
   },
   "file_extension": ".py",
   "mimetype": "text/x-python",
   "name": "python",
   "nbconvert_exporter": "python",
   "pygments_lexer": "ipython3",
   "version": "3.11.9"
  }
 },
 "nbformat": 4,
 "nbformat_minor": 5
}
